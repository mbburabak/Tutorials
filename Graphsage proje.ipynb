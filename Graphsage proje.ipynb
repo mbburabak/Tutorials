{
  "nbformat": 4,
  "nbformat_minor": 0,
  "metadata": {
    "colab": {
      "name": "Untitled0.ipynb",
      "provenance": [],
      "toc_visible": true,
      "authorship_tag": "ABX9TyPoAXwlKji+wCKmBjShXKof",
      "include_colab_link": true
    },
    "kernelspec": {
      "name": "python3",
      "display_name": "Python 3"
    },
    "accelerator": "TPU"
  },
  "cells": [
    {
      "cell_type": "markdown",
      "metadata": {
        "id": "view-in-github",
        "colab_type": "text"
      },
      "source": [
        "<a href=\"https://colab.research.google.com/github/mbburabak/Tutorials/blob/master/Graphsage%20proje.ipynb\" target=\"_parent\"><img src=\"https://colab.research.google.com/assets/colab-badge.svg\" alt=\"Open In Colab\"/></a>"
      ]
    },
    {
      "cell_type": "code",
      "metadata": {
        "id": "MksHNm5jev9N",
        "colab_type": "code",
        "colab": {}
      },
      "source": [
        "!pip install stellargraph"
      ],
      "execution_count": 0,
      "outputs": []
    },
    {
      "cell_type": "code",
      "metadata": {
        "id": "p9cgVXaVRpRi",
        "colab_type": "code",
        "colab": {
          "base_uri": "https://localhost:8080/",
          "height": 34
        },
        "outputId": "9e64c279-a39b-4721-8056-b00eb0647bfd"
      },
      "source": [
        "from stellargraph import StellarGraph\n",
        "import networkx as nx\n",
        "import pandas as pd\n",
        "import numpy as np\n",
        "import pickle\n",
        "from scipy.sparse import csc_matrix\n",
        "import matplotlib.pyplot as plt\n",
        "from keras.models import load_model\n",
        "\n",
        "import stellargraph as sg\n",
        "from stellargraph.data import EdgeSplitter\n",
        "from stellargraph.mapper import GraphSAGELinkGenerator\n",
        "from stellargraph.layer import GraphSAGE, HinSAGE, link_classification\n",
        "\n",
        "from tensorflow import keras\n",
        "from sklearn import preprocessing, feature_extraction, model_selection\n",
        "\n",
        "from stellargraph import globalvar\n",
        "%matplotlib inline"
      ],
      "execution_count": 44,
      "outputs": [
        {
          "output_type": "stream",
          "text": [
            "Using TensorFlow backend.\n"
          ],
          "name": "stderr"
        }
      ]
    },
    {
      "cell_type": "code",
      "metadata": {
        "id": "kF3huMMsRrEw",
        "colab_type": "code",
        "colab": {}
      },
      "source": [
        "#Loading df\n",
        "filename = 'df.pkl'\n",
        "df = pickle.load(open(filename, 'rb'))"
      ],
      "execution_count": 0,
      "outputs": []
    },
    {
      "cell_type": "code",
      "metadata": {
        "id": "ftDt149zSBM3",
        "colab_type": "code",
        "colab": {}
      },
      "source": [
        "edgelist = df[['prev_order','res_id']]\n",
        "#Dropping first orders\n",
        "edgelist = edgelist[edgelist['prev_order'] != 0]\n",
        "edgelist.rename(columns = {'prev_order':'source','res_id':'target'}, inplace = True)"
      ],
      "execution_count": 0,
      "outputs": []
    },
    {
      "cell_type": "code",
      "metadata": {
        "id": "Rk5cjKpuWdBt",
        "colab_type": "code",
        "colab": {}
      },
      "source": [
        "x = edgelist['target'].unique()\n",
        "y = edgelist[~edgelist['source'].isin(x)]['source'].unique()\n",
        "list_node = np.append(x,y)"
      ],
      "execution_count": 0,
      "outputs": []
    },
    {
      "cell_type": "code",
      "metadata": {
        "id": "QMfbS8pMYgLg",
        "colab_type": "code",
        "colab": {}
      },
      "source": [
        "df['dummy_for_cuisine_id'] = 1\n",
        "cuisine_pivot = pd.pivot_table(df,index = 'res_id',columns ='cuisine_id',values = 'dummy_for_cuisine_id').fillna(0)\n",
        "cuisine_pivot = cuisine_pivot[cuisine_pivot.index.isin(list_node)]"
      ],
      "execution_count": 0,
      "outputs": []
    },
    {
      "cell_type": "code",
      "metadata": {
        "id": "e-Ws9bL-YgT3",
        "colab_type": "code",
        "colab": {
          "base_uri": "https://localhost:8080/",
          "height": 204
        },
        "outputId": "3827db8f-1965-430e-c123-625d6974804c"
      },
      "source": [
        "G = StellarGraph({\"restaurant\": cuisine_pivot}, {\"net_order\": edgelist})\n",
        "print(G.info())"
      ],
      "execution_count": 13,
      "outputs": [
        {
          "output_type": "stream",
          "text": [
            "StellarGraph: Undirected multigraph\n",
            " Nodes: 4875, Edges: 827852\n",
            "\n",
            " Node types:\n",
            "  restaurant: [4875]\n",
            "    Features: float32 vector, length 23\n",
            "    Edge types: restaurant-net_order->restaurant\n",
            "\n",
            " Edge types:\n",
            "    restaurant-net_order->restaurant: [827852]\n",
            "        Weights: all 1 (default)\n"
          ],
          "name": "stdout"
        }
      ]
    },
    {
      "cell_type": "code",
      "metadata": {
        "id": "3Thj9-Q5YgW-",
        "colab_type": "code",
        "colab": {}
      },
      "source": [
        "# Define an edge splitter on the original graph G:\n",
        "edge_splitter_test = EdgeSplitter(G)\n",
        "\n",
        "# Randomly sample a fraction p=0.1 of all positive links, and same number of negative links, from G, and obtain the\n",
        "# reduced graph G_test with the sampled links removed:\n",
        "G_test, edge_ids_test, edge_labels_test = edge_splitter_test.train_test_split(\n",
        "    p=0.1, method=\"global\", keep_connected=True\n",
        ")"
      ],
      "execution_count": 0,
      "outputs": []
    },
    {
      "cell_type": "code",
      "metadata": {
        "id": "1rNvtSGBYgZw",
        "colab_type": "code",
        "colab": {}
      },
      "source": [
        "# Define an edge splitter on the reduced graph G_test:\n",
        "edge_splitter_train = EdgeSplitter(G_test)\n",
        "\n",
        "# Randomly sample a fraction p=0.1 of all positive links, and same number of negative links, from G_test, and obtain the\n",
        "# reduced graph G_train with the sampled links removed:\n",
        "G_train, edge_ids_train, edge_labels_train = edge_splitter_train.train_test_split(\n",
        "    p=0.1, method=\"global\", keep_connected=True\n",
        ")"
      ],
      "execution_count": 0,
      "outputs": []
    },
    {
      "cell_type": "code",
      "metadata": {
        "id": "Y3KgcrNZbTm9",
        "colab_type": "code",
        "colab": {}
      },
      "source": [
        "batch_size = 20\n",
        "epochs = 20\n",
        "num_samples = [20, 10]"
      ],
      "execution_count": 0,
      "outputs": []
    },
    {
      "cell_type": "code",
      "metadata": {
        "id": "PBZIeS35bTrX",
        "colab_type": "code",
        "colab": {}
      },
      "source": [
        "train_gen = GraphSAGELinkGenerator(G_train, batch_size, num_samples)\n",
        "train_flow = train_gen.flow(edge_ids_train, edge_labels_train, shuffle=True)"
      ],
      "execution_count": 0,
      "outputs": []
    },
    {
      "cell_type": "code",
      "metadata": {
        "id": "qMcyxssxbTuf",
        "colab_type": "code",
        "colab": {}
      },
      "source": [
        "test_gen = GraphSAGELinkGenerator(G_test, batch_size, num_samples)\n",
        "test_flow = test_gen.flow(edge_ids_test, edge_labels_test)"
      ],
      "execution_count": 0,
      "outputs": []
    },
    {
      "cell_type": "code",
      "metadata": {
        "id": "yN8mD7PYbTxX",
        "colab_type": "code",
        "colab": {}
      },
      "source": [
        "layer_sizes = [20, 20]\n",
        "graphsage = GraphSAGE(\n",
        "    layer_sizes=layer_sizes, generator=train_gen, bias=True, dropout=0.3\n",
        ")"
      ],
      "execution_count": 0,
      "outputs": []
    },
    {
      "cell_type": "code",
      "metadata": {
        "id": "jW7vNFQzbZZw",
        "colab_type": "code",
        "colab": {}
      },
      "source": [
        "# Build the model and expose input and output sockets of graphsage model\n",
        "# for link prediction\n",
        "x_inp, x_out = graphsage.in_out_tensors()"
      ],
      "execution_count": 0,
      "outputs": []
    },
    {
      "cell_type": "code",
      "metadata": {
        "id": "7VFZP8KWbaL9",
        "colab_type": "code",
        "colab": {
          "base_uri": "https://localhost:8080/",
          "height": 34
        },
        "outputId": "64df462c-3c2a-43d6-eb0f-a383f11eaa2a"
      },
      "source": [
        "prediction = link_classification(\n",
        "    output_dim=1, output_act=\"relu\", edge_embedding_method=\"ip\"\n",
        ")(x_out)"
      ],
      "execution_count": 21,
      "outputs": [
        {
          "output_type": "stream",
          "text": [
            "link_classification: using 'ip' method to combine node embeddings into edge embeddings\n"
          ],
          "name": "stdout"
        }
      ]
    },
    {
      "cell_type": "code",
      "metadata": {
        "id": "_RZUK5IIbbr9",
        "colab_type": "code",
        "colab": {}
      },
      "source": [
        " model = keras.Model(inputs=x_inp, outputs=prediction)\n",
        "\n",
        "model.compile(\n",
        "    optimizer=keras.optimizers.Adam(lr=1e-3),\n",
        "    loss=keras.losses.binary_crossentropy,\n",
        "    metrics=[\"acc\"],\n",
        ")"
      ],
      "execution_count": 0,
      "outputs": []
    },
    {
      "cell_type": "code",
      "metadata": {
        "id": "r3nAhyvHbcg6",
        "colab_type": "code",
        "colab": {
          "base_uri": "https://localhost:8080/",
          "height": 697
        },
        "outputId": "589aa0ac-2b24-41d9-cdd1-83892e52215d"
      },
      "source": [
        "history = model.fit(train_flow, epochs=epochs, validation_data=test_flow, verbose=2)"
      ],
      "execution_count": 25,
      "outputs": [
        {
          "output_type": "stream",
          "text": [
            "Epoch 1/20\n",
            "7451/7451 - 1279s - loss: 0.5636 - acc: 0.7126 - val_loss: 0.6043 - val_acc: 0.6299\n",
            "Epoch 2/20\n",
            "7451/7451 - 1276s - loss: 0.5404 - acc: 0.7327 - val_loss: 0.4900 - val_acc: 0.7418\n",
            "Epoch 3/20\n",
            "7451/7451 - 1273s - loss: 0.5280 - acc: 0.7447 - val_loss: 0.6511 - val_acc: 0.5812\n",
            "Epoch 4/20\n",
            "7451/7451 - 1293s - loss: 0.5254 - acc: 0.7402 - val_loss: 0.6282 - val_acc: 0.6102\n",
            "Epoch 5/20\n",
            "7451/7451 - 1285s - loss: 0.5198 - acc: 0.7522 - val_loss: 0.4708 - val_acc: 0.7546\n",
            "Epoch 6/20\n",
            "7451/7451 - 1285s - loss: 0.5036 - acc: 0.7632 - val_loss: 0.4591 - val_acc: 0.7665\n",
            "Epoch 7/20\n",
            "7451/7451 - 1284s - loss: 0.5030 - acc: 0.7546 - val_loss: 0.4568 - val_acc: 0.7684\n",
            "Epoch 8/20\n",
            "7451/7451 - 1309s - loss: 0.4985 - acc: 0.7653 - val_loss: 0.4619 - val_acc: 0.7730\n",
            "Epoch 9/20\n",
            "7451/7451 - 1353s - loss: 0.4930 - acc: 0.7726 - val_loss: 0.4601 - val_acc: 0.7693\n",
            "Epoch 10/20\n",
            "7451/7451 - 1345s - loss: 0.4925 - acc: 0.7738 - val_loss: 0.4555 - val_acc: 0.7822\n",
            "Epoch 11/20\n",
            "7451/7451 - 1340s - loss: 0.4969 - acc: 0.7656 - val_loss: 0.4679 - val_acc: 0.7592\n",
            "Epoch 12/20\n",
            "7451/7451 - 1347s - loss: 0.4957 - acc: 0.7654 - val_loss: 0.4715 - val_acc: 0.7473\n",
            "Epoch 13/20\n",
            "7451/7451 - 1318s - loss: 0.4886 - acc: 0.7748 - val_loss: 0.4483 - val_acc: 0.7761\n",
            "Epoch 14/20\n",
            "7451/7451 - 1284s - loss: 0.4830 - acc: 0.7759 - val_loss: 0.4590 - val_acc: 0.7599\n",
            "Epoch 15/20\n",
            "7451/7451 - 1287s - loss: 0.4850 - acc: 0.7799 - val_loss: 0.4602 - val_acc: 0.7591\n",
            "Epoch 16/20\n",
            "7451/7451 - 1274s - loss: 0.4788 - acc: 0.7809 - val_loss: 0.4449 - val_acc: 0.7848\n",
            "Epoch 17/20\n",
            "7451/7451 - 1269s - loss: 0.4835 - acc: 0.7792 - val_loss: 0.4411 - val_acc: 0.7832\n",
            "Epoch 18/20\n",
            "7451/7451 - 1282s - loss: 0.4814 - acc: 0.7833 - val_loss: 0.4728 - val_acc: 0.7436\n",
            "Epoch 19/20\n",
            "7451/7451 - 1280s - loss: 0.4838 - acc: 0.7756 - val_loss: 0.4469 - val_acc: 0.7835\n",
            "Epoch 20/20\n",
            "7451/7451 - 1274s - loss: 0.4844 - acc: 0.7766 - val_loss: 0.5646 - val_acc: 0.6571\n"
          ],
          "name": "stdout"
        }
      ]
    },
    {
      "cell_type": "code",
      "metadata": {
        "id": "nTEd5zxJbdjY",
        "colab_type": "code",
        "colab": {
          "base_uri": "https://localhost:8080/",
          "height": 585
        },
        "outputId": "82eb60e2-31a4-45c7-a454-b307dd88e8eb"
      },
      "source": [
        "sg.utils.plot_history(history)"
      ],
      "execution_count": 26,
      "outputs": [
        {
          "output_type": "display_data",
          "data": {
            "image/png": "[encoded data removed]",
            "text/plain": [
              "<Figure size 504x576 with 2 Axes>"
            ]
          },
          "metadata": {
            "tags": [],
            "needs_background": "light"
          }
        }
      ]
    },
    {
      "cell_type": "code",
      "metadata": {
        "id": "dtkDoYMzbeZO",
        "colab_type": "code",
        "colab": {
          "base_uri": "https://localhost:8080/",
          "height": 187
        },
        "outputId": "87bed742-4ac5-4b8c-e6fb-c57d9525db37"
      },
      "source": [
        "train_metrics = model.evaluate(train_flow)\n",
        "test_metrics = model.evaluate(test_flow)\n",
        "\n",
        "print(\"\\nTrain Set Metrics of the trained model:\")\n",
        "for name, val in zip(model.metrics_names, train_metrics):\n",
        "    print(\"\\t{}: {:0.4f}\".format(name, val))\n",
        "\n",
        "print(\"\\nTest Set Metrics of the trained model:\")\n",
        "for name, val in zip(model.metrics_names, test_metrics):\n",
        "    print(\"\\t{}: {:0.4f}\".format(name, val))"
      ],
      "execution_count": 27,
      "outputs": [
        {
          "output_type": "stream",
          "text": [
            "7451/7451 [==============================] - 621s 83ms/step - loss: 0.5615 - acc: 0.6607\n",
            "8279/8279 [==============================] - 736s 89ms/step - loss: 0.5645 - acc: 0.6566\n",
            "\n",
            "Train Set Metrics of the trained model:\n",
            "\tloss: 0.5615\n",
            "\tacc: 0.6607\n",
            "\n",
            "Test Set Metrics of the trained model:\n",
            "\tloss: 0.5645\n",
            "\tacc: 0.6566\n"
          ],
          "name": "stdout"
        }
      ]
    },
    {
      "cell_type": "code",
      "metadata": {
        "id": "PH4KtmgHdsdv",
        "colab_type": "code",
        "colab": {}
      },
      "source": [
        "def get_recommended_restaurants(user):\n",
        "  test_data = df[df['client'] == user]\n",
        "  test_edgelist = test_data[['prev_order','res_id']]\n",
        "  test_edgelist = test_edgelist[test_edgelist['prev_order'] != 0]\n",
        "  test_edgelist.rename(columns = {'prev_order':'source','res_id':'target'}, inplace = True)\n",
        "  test_x = test_edgelist['target'].unique()\n",
        "  test_y = test_edgelist[~test_edgelist['source'].isin(test_x)]['source'].unique()\n",
        "  test_list_node = np.append(test_x,test_y)\n",
        "  df['dummy_for_cuisine_id'] = 1\n",
        "  test_cuisine_pivot = pd.pivot_table(df,index = 'res_id',columns ='cuisine_id',values = 'dummy_for_cuisine_id').fillna(0)\n",
        "  test_cuisine_pivot = test_cuisine_pivot[test_cuisine_pivot.index.isin(test_list_node)]\n",
        "  G_test1 = StellarGraph({\"restaurant\": test_cuisine_pivot}, {\"net_order\": test_edgelist})\n",
        "  edge_splitter_test = EdgeSplitter(G_test1)\n",
        "  test_G, edge_ids_test1, edge_labels_test1 = edge_splitter_test.train_test_split(p=0.99999, method=\"global\", keep_connected=False)\n",
        "  flow_test = train_gen.flow(edge_ids_test1, edge_labels_test1, shuffle=False)\n",
        "  pred_list = []\n",
        "  for i in model.predict(flow_test):\n",
        "    pred_list.append(i[0])\n",
        "  prediction = pd.DataFrame(list(zip(pred_list, edge_ids_test1[:,1])))\n",
        "  prediction['probs'] = prediction.iloc[:,0]\n",
        "  prediction['res_id'] = prediction.iloc[:,1]\n",
        "  prediction = prediction[['res_id','probs']]\n",
        "  #prediction = prediction.groupby('res_id').transform('mean')\n",
        "  prediction = prediction.sort_values(by = 'probs',ascending = False).reset_index()\n",
        "  prediction.drop(columns = 'index',axis = 1, inplace = True)\n",
        "  prediction_rests = prediction['res_id'].unique()\n",
        "  print(df[df['res_id'].isin(prediction_rests)]['restaurant_name'].unique())"
      ],
      "execution_count": 0,
      "outputs": []
    },
    {
      "cell_type": "code",
      "metadata": {
        "id": "chn8tyl9jBFe",
        "colab_type": "code",
        "colab": {
          "base_uri": "https://localhost:8080/",
          "height": 289
        },
        "outputId": "9bdd118d-70ab-4e86-e363-5b8c6a228f9f"
      },
      "source": [
        "get_recommended_restaurants('595ec31f1239b00004ef0375')"
      ],
      "execution_count": 214,
      "outputs": [
        {
          "output_type": "stream",
          "text": [
            "** Sampled 68 positive and 68 negative edges. **\n",
            "['Pide Sepeti' 'Little Caesars (Dikilitaş Mah.)' 'Tost Mahal Burger'\n",
            " 'Frango Döner & Sauce (Mecidiyeköy Mah.)'\n",
            " 'Etiler Marmaris (Cihannüma Mah.)' 'Noodle House (Cihannüma Mah.)'\n",
            " 'Fesleğen Cafe & Kahvaltı & Ev Yemekleri' 'House of B (Teşvikiye Mah.)'\n",
            " 'Bakırda Kuru' 'Çiftlik Kasap Burger' 'Craft Ktchn' \"Don Pablo's Grill\"\n",
            " 'Lahmacun Evi' 'Ay Kumpir' 'FitNgo' 'Neşe Mantı & Cafe'\n",
            " \"Meat'ng Steakhouse & Burgers & Ribs\" 'Otlangaç Kahvaltı & Cafe'\n",
            " 'Limos Cafe & Kahvaltı'\n",
            " 'Tane Kurufasulye & Kavurma & Pilav (Muradiye Mah.)' 'MRS Yaprak Tantuni'\n",
            " 'Balık Kafası' 'Tostbusters (Gayrettepe Mah.)'\n",
            " 'Mekan Kebap Pide & Lahmacun' 'By Ulus Steak House & Burger'\n",
            " 'Uniq Kitchen Tost' 'Burger Z' 'Mrs Love Burger'\n",
            " 'Boston Donuts (Mecidiyeköy Mah.)' \"Deso's Restaurant\" 'Betro Burger'\n",
            " 'Coni & Co (Arnavutköy Mah.)' 'Meşhur Sarıyer Börekçisi (Emirhan Cad.)'\n",
            " 'KFC (Beşiktaş)']\n"
          ],
          "name": "stdout"
        }
      ]
    },
    {
      "cell_type": "code",
      "metadata": {
        "id": "-B24dgqduUnr",
        "colab_type": "code",
        "colab": {}
      },
      "source": [
        "# model.fit süresi = 7 saat 20 dakika"
      ],
      "execution_count": 0,
      "outputs": []
    }
  ]
}